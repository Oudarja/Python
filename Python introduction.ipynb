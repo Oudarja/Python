{
 "cells": [
  {
   "cell_type": "code",
   "execution_count": 1,
   "id": "32a0e1e1",
   "metadata": {},
   "outputs": [
    {
     "name": "stdout",
     "output_type": "stream",
     "text": [
      "Hello world\n"
     ]
    }
   ],
   "source": [
    "print(\"Hello world\")"
   ]
  },
  {
   "cell_type": "code",
   "execution_count": 2,
   "id": "a675e842",
   "metadata": {},
   "outputs": [
    {
     "name": "stdout",
     "output_type": "stream",
     "text": [
      "Kathmandu\n"
     ]
    }
   ],
   "source": [
    "city=\"Kathmandu\"\n",
    "print(city)"
   ]
  },
  {
   "cell_type": "code",
   "execution_count": 3,
   "id": "d0322e27",
   "metadata": {},
   "outputs": [
    {
     "name": "stdout",
     "output_type": "stream",
     "text": [
      "City: Kathmandu\n"
     ]
    }
   ],
   "source": [
    "'''Printing 2 or more string and variables inside single print'''\n",
    "print(\"City:\",\"Kathmandu\")"
   ]
  },
  {
   "cell_type": "code",
   "execution_count": 4,
   "id": "e79843a8",
   "metadata": {},
   "outputs": [
    {
     "name": "stdout",
     "output_type": "stream",
     "text": [
      "City:  Kathmandu\n"
     ]
    }
   ],
   "source": [
    "print(\"City: \",\"Kathmandu\")"
   ]
  },
  {
   "cell_type": "code",
   "execution_count": 5,
   "id": "929199d2",
   "metadata": {},
   "outputs": [
    {
     "name": "stdout",
     "output_type": "stream",
     "text": [
      "City: Kathmandu\n"
     ]
    }
   ],
   "source": [
    "print(\"City:\",city)"
   ]
  },
  {
   "cell_type": "code",
   "execution_count": 1,
   "id": "637fd413",
   "metadata": {},
   "outputs": [
    {
     "name": "stdout",
     "output_type": "stream",
     "text": [
      "Oudarja\n",
      "Oudarja\n",
      "Give ur friend's name: Soumik datta\n",
      "Soumik datta\n",
      "<class 'str'>\n"
     ]
    }
   ],
   "source": [
    "'''Taking input from user'''\n",
    "name=input()\n",
    "print(name)\n",
    "name=input(\"Give ur friend's name: \")\n",
    "print(name)\n",
    "print(type(name))"
   ]
  },
  {
   "cell_type": "code",
   "execution_count": 2,
   "id": "f75524cc",
   "metadata": {},
   "outputs": [
    {
     "name": "stdout",
     "output_type": "stream",
     "text": [
      "<class 'int'>\n",
      "<class 'float'>\n"
     ]
    }
   ],
   "source": [
    "'''input function always take input as string'''\n",
    "a=5;\n",
    "print(type(a))\n",
    "a=9.0\n",
    "print(type(a))\n"
   ]
  },
  {
   "cell_type": "code",
   "execution_count": 3,
   "id": "cd28abd3",
   "metadata": {},
   "outputs": [
    {
     "name": "stdout",
     "output_type": "stream",
     "text": [
      "Enter a number23\n",
      "<class 'int'>\n"
     ]
    }
   ],
   "source": [
    "'''Convert from str to int'''\n",
    "\n",
    "a=input(\"Enter a number\")\n",
    "a=int(a)\n",
    "\n",
    "print(type(a))\n"
   ]
  },
  {
   "cell_type": "code",
   "execution_count": 4,
   "id": "c49002b3",
   "metadata": {},
   "outputs": [
    {
     "name": "stdout",
     "output_type": "stream",
     "text": [
      "Enter a number12.34\n",
      "<class 'float'>\n"
     ]
    }
   ],
   "source": [
    "#taking input with type casting \n",
    "a=float(input(\"Enter a number\"))\n",
    "\n",
    "print(type(a))\n"
   ]
  },
  {
   "cell_type": "code",
   "execution_count": 5,
   "id": "79ee547d",
   "metadata": {},
   "outputs": [
    {
     "name": "stdout",
     "output_type": "stream",
     "text": [
      "I am a\n",
      "multiline string\n"
     ]
    }
   ],
   "source": [
    "#for multiline string triple quoates is used \n",
    "#when multiline string is not assigned to any variables then it is comment of multiline\n",
    "st='''I am a\n",
    "multiline string'''\n",
    "\n",
    "print(st)\n",
    "\n",
    "\n"
   ]
  },
  {
   "cell_type": "code",
   "execution_count": 12,
   "id": "7a862331",
   "metadata": {},
   "outputs": [
    {
     "name": "stdout",
     "output_type": "stream",
     "text": [
      "2\n",
      "2.5\n",
      "16\n"
     ]
    }
   ],
   "source": [
    "#floor division and only division\n",
    "x=5;\n",
    "y=2;\n",
    "#floor division\n",
    "print(x//y)\n",
    "\n",
    "print(x/y)\n",
    "\n",
    "#** for to the power\n",
    "\n",
    "print(2**4)\n",
    "\n"
   ]
  },
  {
   "cell_type": "code",
   "execution_count": 9,
   "id": "9cda0cd3",
   "metadata": {},
   "outputs": [
    {
     "name": "stdout",
     "output_type": "stream",
     "text": [
      "True\n",
      "False\n",
      "True\n",
      "False\n",
      "True\n",
      "True\n",
      "True\n",
      "True\n",
      "False\n"
     ]
    }
   ],
   "source": [
    "#comparison operator\n",
    "num=5\n",
    "print(num<10)\n",
    "print(num>10)\n",
    "print(num!=11)\n",
    "print(num<=2)\n",
    "print(num>=3)\n",
    "print(num==5)\n",
    "\n",
    "#logical operator\n",
    "\n",
    "age=23\n",
    "gpa=3.9\n",
    "\n",
    "result=age>=18 and gpa>=3.00\n",
    "print(result)\n",
    "result=age>18 or gpa>=3.00\n",
    "print(result)\n",
    "print(not(result))"
   ]
  },
  {
   "cell_type": "code",
   "execution_count": 14,
   "id": "0fe96332",
   "metadata": {},
   "outputs": [
    {
     "name": "stdout",
     "output_type": "stream",
     "text": [
      "Enter ur score: 30\n",
      "Sorry\n"
     ]
    }
   ],
   "source": [
    "score=int(input(\"Enter ur score: \"))\n",
    "if score>50:\n",
    "    print(\"You have passed\")\n",
    "    print(\"Congratulations\")\n",
    "else:\n",
    "    print(\"Sorry\")"
   ]
  },
  {
   "cell_type": "code",
   "execution_count": 15,
   "id": "f9bd8497",
   "metadata": {},
   "outputs": [
    {
     "name": "stdout",
     "output_type": "stream",
     "text": [
      "Enter a number1\n",
      "Number is positive\n"
     ]
    }
   ],
   "source": [
    "num=int(input(\"Enter a number\"))\n",
    "if num>0:\n",
    "    print(\"Number is positive\")\n",
    "elif num<0:\n",
    "    print(\"Number is negative\")\n",
    "else:\n",
    "    print(\"Number is Zero\")\n",
    "\n",
    "    \n",
    "    "
   ]
  },
  {
   "cell_type": "code",
   "execution_count": 6,
   "id": "24418f42",
   "metadata": {},
   "outputs": [
    {
     "name": "stdout",
     "output_type": "stream",
     "text": [
      "Loop is interesting\n",
      "Loop is interesting\n",
      "Loop is interesting\n",
      "Loop is interesting\n",
      "Loop is interesting\n",
      "Enter a number100\n",
      "100\n",
      "200\n",
      "300\n",
      "400\n",
      "500\n",
      "600\n",
      "700\n",
      "800\n",
      "900\n",
      "1000\n",
      "1\n",
      "2\n",
      "3\n",
      "4\n",
      "Enter a number12\n",
      "Enter a number23\n",
      "Enter a number45\n",
      "Enter a number-1\n"
     ]
    }
   ],
   "source": [
    "#loop\n",
    "\n",
    "\n",
    "count=0\n",
    "\n",
    "while count<5:\n",
    "    print(\"Loop is interesting\")\n",
    "    count=count+1\n",
    "    \n",
    "#multiplication table\n",
    "\n",
    "num=int(input(\"Enter a number\"))\n",
    "\n",
    "cnt=1\n",
    "\n",
    "while cnt<=10:\n",
    "    print(cnt*num)\n",
    "    cnt=cnt+1\n",
    "\n",
    "\n",
    "#for loop\n",
    "\n",
    "for item in range(1,6):\n",
    "    print(item)\n",
    "    if item==4:\n",
    "        break\n",
    "\n",
    "\n",
    "    \n",
    "while True:\n",
    "    num=float(input(\"Enter a number\"))\n",
    "    if num<0:\n",
    "        break\n",
    "\n",
    "\n"
   ]
  },
  {
   "cell_type": "code",
   "execution_count": 7,
   "id": "2b13d954",
   "metadata": {},
   "outputs": [
    {
     "name": "stdout",
     "output_type": "stream",
     "text": [
      "Enter a number12\n",
      "12\n",
      "Enter a number23\n",
      "23\n",
      "Enter a number45\n",
      "45\n",
      "Enter a number-1\n",
      "Enter a number12\n",
      "12\n",
      "Enter a number-1\n",
      "Enter a number-2\n",
      "Enter a number-3\n",
      "Enter a number-33\n"
     ]
    }
   ],
   "source": [
    "#continue statement\n",
    "for i in range(1,10):\n",
    "    num=int(input(\"Enter a number\"))\n",
    "    if num<0:\n",
    "        continue\n",
    "    else:\n",
    "        print(num)\n"
   ]
  },
  {
   "cell_type": "code",
   "execution_count": 9,
   "id": "dc32ceb7",
   "metadata": {},
   "outputs": [
    {
     "name": "stdout",
     "output_type": "stream",
     "text": [
      "python\n",
      "java\n",
      "swift\n"
     ]
    }
   ],
   "source": [
    "languages=[\"python\",\"java\",\"c++\",\"swift\",\"c\"]\n",
    "\n",
    "for i in languages:\n",
    "    if i==\"c\" or i==\"c++\":\n",
    "        continue\n",
    "    else:\n",
    "        print(i)\n",
    "    \n"
   ]
  },
  {
   "cell_type": "code",
   "execution_count": 10,
   "id": "2904cd00",
   "metadata": {},
   "outputs": [
    {
     "name": "stdout",
     "output_type": "stream",
     "text": [
      "P\n",
      "y\n",
      "t\n",
      "h\n",
      "o\n",
      "n\n"
     ]
    }
   ],
   "source": [
    "text=\"Python\"\n",
    "\n",
    "for i in text:\n",
    "    print(i)\n",
    "    "
   ]
  },
  {
   "cell_type": "code",
   "execution_count": 6,
   "id": "3861416d",
   "metadata": {},
   "outputs": [
    {
     "name": "stdout",
     "output_type": "stream",
     "text": [
      "pass working\n"
     ]
    }
   ],
   "source": [
    "#pass statement\n",
    "\n",
    "num=9.0\n",
    "\n",
    "if num>0.0:\n",
    "    pass\n",
    "# so here inside if pass is working so when needed i can give statement inside if block \n",
    "if num+1==10.0:\n",
    "    print(\"pass working\")"
   ]
  },
  {
   "cell_type": "code",
   "execution_count": 7,
   "id": "96298677",
   "metadata": {},
   "outputs": [
    {
     "name": "stdout",
     "output_type": "stream",
     "text": [
      "hello\n",
      "How are You\n"
     ]
    }
   ],
   "source": [
    "#function\n",
    "\n",
    "def greet():\n",
    "    print(\"hello\")\n",
    "    print(\"How are You\")\n",
    "\n",
    "greet()\n"
   ]
  },
  {
   "cell_type": "code",
   "execution_count": 8,
   "id": "df7a7442",
   "metadata": {},
   "outputs": [
    {
     "name": "stdout",
     "output_type": "stream",
     "text": [
      "3\n"
     ]
    }
   ],
   "source": [
    "def func(n1,n2):\n",
    "    return n1+n2\n",
    "\n",
    "u=func(1,2)\n",
    "\n",
    "print(u) "
   ]
  },
  {
   "cell_type": "code",
   "execution_count": 2,
   "id": "72e2198f",
   "metadata": {},
   "outputs": [
    {
     "name": "stdout",
     "output_type": "stream",
     "text": [
      "4\n",
      "49\n"
     ]
    }
   ],
   "source": [
    "marks=[10,11,13,15]\n",
    "length=len(marks)\n",
    "print(length)\n",
    "\n",
    "Sum=sum(marks)\n",
    "\n",
    "print(Sum)"
   ]
  },
  {
   "cell_type": "code",
   "execution_count": 4,
   "id": "798c76c4",
   "metadata": {},
   "outputs": [
    {
     "name": "stdout",
     "output_type": "stream",
     "text": [
      "12.25\n",
      "F\n"
     ]
    }
   ],
   "source": [
    "#find avaerage marks\n",
    "def average(marks):\n",
    "    Sum=sum(marks)\n",
    "    return Sum/len(marks)\n",
    "\n",
    "\n",
    "def computegrade(avg_marks):\n",
    "    if avg_marks>=80:\n",
    "        return 'A'\n",
    "    elif avg_marks>=60:\n",
    "        return 'B'\n",
    "    else:\n",
    "        return 'F'\n",
    "    \n",
    "\n",
    "\n",
    "marks=[10,11,13,15]\n",
    "\n",
    "avg=average(marks)\n",
    "print(avg)\n",
    "\n",
    "print(computegrade(avg))\n",
    "    "
   ]
  },
  {
   "cell_type": "code",
   "execution_count": 7,
   "id": "5e246ab4",
   "metadata": {},
   "outputs": [
    {
     "name": "stdout",
     "output_type": "stream",
     "text": [
      "105\n",
      "105\n",
      "200\n"
     ]
    }
   ],
   "source": [
    "#use of default value in function argument\n",
    "#here first argument is used as pased value\n",
    "def func(n1,n2=100):\n",
    "    return n1+n2;\n",
    "\n",
    "\n",
    "num=5;\n",
    "\n",
    "print(func(5))\n",
    "#here passed argument used in n1 \n",
    "\n",
    "#again\n",
    "\n",
    "def func(n1=100,n2=100):\n",
    "    return n1+n2;\n",
    "\n",
    "num=5;\n",
    "print(func(5))\n",
    "\n",
    "\n",
    "#agin with out argument default value is used\n",
    "\n",
    "def func(n1=100,n2=100):\n",
    "    return n1+n2;\n",
    "\n",
    "num=5;\n",
    "print(func())\n"
   ]
  },
  {
   "cell_type": "code",
   "execution_count": 8,
   "id": "1ed86d68",
   "metadata": {},
   "outputs": [
    {
     "name": "stdout",
     "output_type": "stream",
     "text": [
      "hello Soumik\n",
      "How is ur day\n"
     ]
    }
   ],
   "source": [
    "\n",
    "def greet(name,message):\n",
    "    print(\"hello\",name)\n",
    "    print(message)\n",
    "    \n",
    "greet(\"Soumik\",\"How is ur day\")\n",
    "\n",
    "    "
   ]
  },
  {
   "cell_type": "code",
   "execution_count": 9,
   "id": "b002e857",
   "metadata": {},
   "outputs": [
    {
     "name": "stdout",
     "output_type": "stream",
     "text": [
      "hello Soumik\n",
      "How are u doing\n"
     ]
    }
   ],
   "source": [
    "#global variable\n",
    "\n",
    "message=\"How are u doing\"\n",
    "\n",
    "def greet(name):\n",
    "    print(\"hello\",name)\n",
    "    print(message)\n",
    "    \n",
    "greet(\"Soumik\")\n"
   ]
  },
  {
   "cell_type": "code",
   "execution_count": 4,
   "id": "d3480f61",
   "metadata": {},
   "outputs": [
    {
     "name": "stdout",
     "output_type": "stream",
     "text": [
      "Inside function  Hey what's up\n",
      "Outside function  How are u doing\n",
      "Inside function  Hey what's up\n",
      "Outside function  Hey what's up\n"
     ]
    }
   ],
   "source": [
    "message=\"How are u doing\"\n",
    "\n",
    "def greet():\n",
    "    message=\"Hey what's up\"\n",
    "    print(\"Inside function \",message)\n",
    "    \n",
    "greet()\n",
    "\n",
    "print(\"Outside function \",message)\n",
    "\n",
    "#To change the value of global variable inside function global keyword is used\n",
    "#Here global variable value is changed\n",
    "message1=\"How are u doing\"\n",
    "\n",
    "def greet():\n",
    "    global message1\n",
    "    message1=\"Hey what's up\"\n",
    "    print(\"Inside function \",message1)\n",
    "    \n",
    "greet()\n",
    "\n",
    "print(\"Outside function \",message1)\n"
   ]
  },
  {
   "cell_type": "code",
   "execution_count": 5,
   "id": "a1bbd24f",
   "metadata": {},
   "outputs": [
    {
     "name": "stdout",
     "output_type": "stream",
     "text": [
      "['Oudarja', 1, 2, 3.7]\n",
      "[1, 2, 3, 4, 5]\n",
      "[]\n",
      "1\n",
      "[1, 2, 3, 4, 5, 90]\n",
      "90\n",
      "2\n",
      "[2, 3.7]\n"
     ]
    }
   ],
   "source": [
    "#list\n",
    "\n",
    "numbers=[1,2,3,4,5]\n",
    "#mixed list\n",
    "\n",
    "mixed=[\"Oudarja\",1,2,3.7]\n",
    "\n",
    "empty=[]\n",
    "\n",
    "print(mixed)\n",
    "print(numbers)\n",
    "print(empty)\n",
    "print(numbers[0])\n",
    "numbers.append(90)\n",
    "print(numbers)\n",
    "\n",
    "#negative indexing -1 is the last index \n",
    "\n",
    "print(numbers[-1])\n",
    "print(mixed[-2])\n",
    "\n",
    "print(mixed[2:])"
   ]
  },
  {
   "cell_type": "code",
   "execution_count": 7,
   "id": "b1ec2244",
   "metadata": {},
   "outputs": [
    {
     "name": "stdout",
     "output_type": "stream",
     "text": [
      "[1, 2, 3]\n",
      "[3, 4, 5]\n",
      "[1, 90, 99, 100, 5]\n",
      "True\n",
      "[1, 90, 200, 99, 100, 5]\n",
      "[1, 90, 99, 100, 5]\n",
      "[1, 90, 99, 100, 5]\n"
     ]
    }
   ],
   "source": [
    "numbers=[1,2,3,4,5]\n",
    "print(numbers[0:3])\n",
    "print(numbers[2:5])\n",
    "#changes 2 to 3 index element\n",
    "numbers[1:4]=[90,99,100]\n",
    "print(numbers)\n",
    "\n",
    "#whether a item is in the list or not\n",
    "if 100 in numbers:\n",
    "    print(True)\n",
    "else:\n",
    "    print(False)\n",
    "    \n",
    "#Insert element anywhere in list\n",
    "#at 2nd index 200 is inserted\n",
    "numbers.insert(2,200)\n",
    "print(numbers)\n",
    "#remove an element\n",
    "\n",
    "numbers.remove(200)\n",
    "\n",
    "print(numbers)\n",
    "\n",
    "#copy list to another list\n",
    "numbers1=numbers;\n",
    "print(numbers1)"
   ]
  },
  {
   "cell_type": "code",
   "execution_count": 10,
   "id": "958852cf",
   "metadata": {},
   "outputs": [
    {
     "name": "stdout",
     "output_type": "stream",
     "text": [
      "(-1, 2.3, 0, 0, 8, 11)\n",
      "-1\n",
      "2.3\n",
      "0\n",
      "0\n",
      "8\n",
      "11\n",
      "(2.3, 0)\n"
     ]
    }
   ],
   "source": [
    "#tuples\n",
    "numbers=(-1,2.3,0,0,8,11)\n",
    "\n",
    "print(numbers)\n",
    "\n",
    "#use loop \n",
    "\n",
    "for i in numbers:\n",
    "    print(i)\n",
    "    \n",
    "#print a slice from tuple\n",
    "\n",
    "print(numbers[1:3])\n",
    "#tuple can not be changed like list that means no element can be inserted or deleted from tuple\n"
   ]
  },
  {
   "cell_type": "code",
   "execution_count": 13,
   "id": "8f0ff5e1",
   "metadata": {},
   "outputs": [
    {
     "name": "stdout",
     "output_type": "stream",
     "text": [
      "He said,\"What's there?\"\n"
     ]
    }
   ],
   "source": [
    "#double quotes and single quotes in side a string\n",
    "\n",
    "text=\"He said,\\\"What\\'s there?\\\"\"\n",
    "print(text)"
   ]
  },
  {
   "cell_type": "code",
   "execution_count": 4,
   "id": "c1600758",
   "metadata": {},
   "outputs": [
    {
     "name": "stdout",
     "output_type": "stream",
     "text": [
      "o\n",
      "l\n",
      "He\n",
      "ello\n"
     ]
    }
   ],
   "source": [
    "str=\"Hello\"\n",
    "\n",
    "print(str[-1])\n",
    "print(str[-2])\n",
    "#slicing\n",
    "\n",
    "print(str[0:2])\n",
    "\n",
    "print(str[1:])"
   ]
  },
  {
   "cell_type": "code",
   "execution_count": 15,
   "id": "c8235e6d",
   "metadata": {},
   "outputs": [
    {
     "name": "stdout",
     "output_type": "stream",
     "text": [
      "Python Programming\n",
      "PythonPythonPython\n",
      "True\n",
      "True\n",
      "PYTHON\n",
      "python\n",
      "2\n"
     ]
    }
   ],
   "source": [
    "text1=\"Python\"\n",
    "text2=\"Programming\"\n",
    "print(text1+\" \"+text2)\n",
    "#repeat a string\n",
    "\n",
    "new_str=text1*3\n",
    "print(new_str)\n",
    "#checking a character or string in a string as a substring\n",
    "\n",
    "print(\"rog\" in text2)\n",
    "\n",
    "print('r'in text2)\n",
    "#make all character in lower_case\n",
    "\n",
    "print(text1.upper())\n",
    "\n",
    "print(text1.lower())\n",
    "# find the index of first occurence a substring in a string\n",
    "\n",
    "print(text1.find(\"th\"))"
   ]
  },
  {
   "cell_type": "code",
   "execution_count": 27,
   "id": "b7959346",
   "metadata": {},
   "outputs": [
    {
     "name": "stdout",
     "output_type": "stream",
     "text": [
      "{'name': 'Linus', 'age': 21}\n",
      "Linus\n",
      "{'name': 'Denish', 'age': 21}\n",
      "{'age': 21}\n",
      "name\n",
      "Soumik\n",
      "age\n",
      "24\n",
      "skill\n",
      "datascience\n"
     ]
    }
   ],
   "source": [
    "#dictionaries\n",
    "#key:value\n",
    "#dictionary name person1\n",
    "person1={\"name\":\"Linus\",\"age\":21}\n",
    "print(person1)\n",
    "print(person1[\"name\"])\n",
    "person1[\"name\"]=\"Denish\"\n",
    "print(person1)\n",
    "#remove element \n",
    "person1.pop(\"name\")\n",
    "print(person1)\n",
    "person={\"name\":\"Soumik\",\"age\":24,\"skill\":\"datascience\"}\n",
    "for i in person:\n",
    "    print(i)\n",
    "    print(person[i])\n"
   ]
  },
  {
   "cell_type": "code",
   "execution_count": 39,
   "id": "7232749b",
   "metadata": {},
   "outputs": [
    {
     "name": "stdout",
     "output_type": "stream",
     "text": [
      "{'elephant', 'dog', 'cat', 'tiger'}\n",
      "set()\n",
      "{1, 2, 4, 6, 7, 23}\n",
      "{1, 2, 4, 6, 7, 1000, 23}\n",
      "{'tiger', 'elephant', 'dog', 'Leopard', 'cat'}\n",
      "{'tiger', 'elephant', 'dog', 'Lizard', 'Leopard', 'cat', 'Dolphins'}\n",
      "{'tiger', 'elephant', 'dog', 'Leopard', 'cat', 'Dolphins'}\n",
      "set()\n"
     ]
    }
   ],
   "source": [
    "#sets\n",
    "# sets item have no indexes because they are not in any particular order\n",
    "animals={\"dog\",\"cat\",\"tiger\",\"elephant\"}\n",
    "print(animals)\n",
    "#empty set\n",
    "animals=set()\n",
    "print(animals)\n",
    "\n",
    "#converting a list to set\n",
    "number=[1,4,23,2,1,6,7,1]\n",
    "num_set=set([1,4,23,2,1,6,7,1])\n",
    "print(num_set)\n",
    "\n",
    "#add element\n",
    "\n",
    "num_set.add(1000)\n",
    "print(num_set)\n",
    "animals1={\"dog\",\"cat\",\"tiger\",\"elephant\"}\n",
    "animals2={\"dog\",\"cat\",\"tiger\",\"elephant\",\"Leopard\"}\n",
    "\n",
    "animals2.update(animals1)\n",
    "\n",
    "print(animals2)\n",
    "\n",
    "#update using direct set\n",
    "\n",
    "animals2.update({\"Dolphins\"},{\"Lizard\"})\n",
    "\n",
    "print(animals2)\n",
    "\n",
    "#remove an element from set\n",
    "\n",
    "animals2.remove(\"Lizard\")\n",
    "\n",
    "print(animals2)\n",
    "#To clear all elements from set\n",
    "\n",
    "animals2.clear()\n",
    "\n",
    "print(animals2)\n",
    "\n"
   ]
  },
  {
   "cell_type": "code",
   "execution_count": 44,
   "id": "d3cbad2e",
   "metadata": {},
   "outputs": [
    {
     "name": "stdout",
     "output_type": "stream",
     "text": [
      "{'elephant', 'dog', 'cat', 'tiger'}\n",
      "{'elephant', 'dog', 'cat'}\n"
     ]
    }
   ],
   "source": [
    "#union of 2 sets\n",
    "\n",
    "\n",
    "domestic_animals={\"dog\",\"cat\",\"elephant\"}\n",
    "animals={'elephant', 'dog', 'cat', 'tiger'}\n",
    "\n",
    "animals1=animals.union(domestic_animals)\n",
    "\n",
    "print(animals)\n",
    "\n",
    "#intersection of 2 set\n",
    "\n",
    "intersection_animal=animals.intersection(domestic_animals)\n",
    "print(intersection_animal)"
   ]
  },
  {
   "cell_type": "code",
   "execution_count": 46,
   "id": "823ecc2f",
   "metadata": {},
   "outputs": [
    {
     "name": "stdout",
     "output_type": "stream",
     "text": [
      "[1, 2, 3, 4, 5, 6, 7, 8, 9, 10]\n"
     ]
    }
   ],
   "source": [
    "#range\n",
    "\n",
    "res=range(1,11)\n",
    "print(list(res))\n"
   ]
  },
  {
   "cell_type": "code",
   "execution_count": null,
   "id": "5292c0f5",
   "metadata": {},
   "outputs": [],
   "source": []
  }
 ],
 "metadata": {
  "kernelspec": {
   "display_name": "Python 3 (ipykernel)",
   "language": "python",
   "name": "python3"
  },
  "language_info": {
   "codemirror_mode": {
    "name": "ipython",
    "version": 3
   },
   "file_extension": ".py",
   "mimetype": "text/x-python",
   "name": "python",
   "nbconvert_exporter": "python",
   "pygments_lexer": "ipython3",
   "version": "3.9.0"
  }
 },
 "nbformat": 4,
 "nbformat_minor": 5
}
