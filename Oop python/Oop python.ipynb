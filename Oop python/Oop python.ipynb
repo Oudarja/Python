{
 "cells": [
  {
   "cell_type": "code",
   "execution_count": 1,
   "id": "65b11a46",
   "metadata": {},
   "outputs": [
    {
     "name": "stdout",
     "output_type": "stream",
     "text": [
      "True\n",
      "False\n"
     ]
    }
   ],
   "source": [
    "class student:\n",
    "    #here self represents objects a class can many object so one or more object can use this function \n",
    "    #self represents the current object calling it\n",
    "    def check_pass_fail(self):\n",
    "        if self.marks>=40:\n",
    "            return True\n",
    "        else:\n",
    "            return False\n",
    "\n",
    "#in python attribute of a class can be define with out any previous declaration\n",
    "student1=student()\n",
    "#name attribute has been defined \n",
    "student1.name=\"Harry\"\n",
    "student1.marks= 89\n",
    "did_pass=student1.check_pass_fail()\n",
    "print(did_pass)\n",
    "\n",
    "student2=student()\n",
    "student2.name=\"Janet\"\n",
    "student2.marks=10\n",
    "did_pass=student2.check_pass_fail()\n",
    "print(did_pass)\n"
   ]
  },
  {
   "cell_type": "code",
   "execution_count": 2,
   "id": "2150e385",
   "metadata": {},
   "outputs": [
    {
     "name": "stdout",
     "output_type": "stream",
     "text": [
      "True\n",
      "False\n"
     ]
    }
   ],
   "source": [
    "class student:\n",
    "    #here self represents objects a class can many object so one or more object can use this function \n",
    "    #self represents the current object calling it\n",
    "    def check_pass_fail(self):\n",
    "        if self.marks>=40:\n",
    "            return True\n",
    "        else:\n",
    "            return False\n",
    "    #use of init function to initialize attribute of different object\n",
    "    def __init__(self,name,marks):\n",
    "        self.name=name\n",
    "        self.marks=marks\n",
    "\n",
    "student1=student(\"Harry\",89)\n",
    "did_pass=student1.check_pass_fail()\n",
    "print(did_pass)\n",
    "student2=student(\"Janet\",10)\n",
    "did_pass=student2.check_pass_fail()\n",
    "print(did_pass)"
   ]
  },
  {
   "cell_type": "code",
   "execution_count": 3,
   "id": "b4e19cdf",
   "metadata": {},
   "outputs": [
    {
     "name": "stdout",
     "output_type": "stream",
     "text": [
      "Real part of result : 1\n",
      "Img part of result : 8\n"
     ]
    }
   ],
   "source": [
    "class Complex:\n",
    "    def __init__(self,real,img):\n",
    "        self.real=real\n",
    "        self.img=img\n",
    "    \n",
    "    def add(self,number):\n",
    "        real=self.real+number.real\n",
    "        img=self.img+number.img\n",
    "        result=Complex(real,img)\n",
    "        return result\n",
    "    \n",
    "    \n",
    "n1=Complex(5,6)\n",
    "n2=Complex(-4,2)\n",
    "\n",
    "result=n1.add(n2)\n",
    "\n",
    "print(\"Real part of result :\",result.real)\n",
    "print(\"Img part of result :\",result.img)"
   ]
  },
  {
   "cell_type": "code",
   "execution_count": 4,
   "id": "1db10a9d",
   "metadata": {},
   "outputs": [
    {
     "name": "stdout",
     "output_type": "stream",
     "text": [
      "<class 'list'>\n",
      "<class 'int'>\n",
      "<class 'bool'>\n",
      "<class 'function'>\n",
      "['__add__', '__class__', '__class_getitem__', '__contains__', '__delattr__', '__delitem__', '__dir__', '__doc__', '__eq__', '__format__', '__ge__', '__getattribute__', '__getitem__', '__gt__', '__hash__', '__iadd__', '__imul__', '__init__', '__init_subclass__', '__iter__', '__le__', '__len__', '__lt__', '__mul__', '__ne__', '__new__', '__reduce__', '__reduce_ex__', '__repr__', '__reversed__', '__rmul__', '__setattr__', '__setitem__', '__sizeof__', '__str__', '__subclasshook__', 'append', 'clear', 'copy', 'count', 'extend', 'index', 'insert', 'pop', 'remove', 'reverse', 'sort']\n",
      "\n",
      "\n",
      "['__and__', '__class__', '__class_getitem__', '__contains__', '__delattr__', '__dir__', '__doc__', '__eq__', '__format__', '__ge__', '__getattribute__', '__gt__', '__hash__', '__iand__', '__init__', '__init_subclass__', '__ior__', '__isub__', '__iter__', '__ixor__', '__le__', '__len__', '__lt__', '__ne__', '__new__', '__or__', '__rand__', '__reduce__', '__reduce_ex__', '__repr__', '__ror__', '__rsub__', '__rxor__', '__setattr__', '__sizeof__', '__str__', '__sub__', '__subclasshook__', '__xor__', 'add', 'clear', 'copy', 'difference', 'difference_update', 'discard', 'intersection', 'intersection_update', 'isdisjoint', 'issubset', 'issuperset', 'pop', 'remove', 'symmetric_difference', 'symmetric_difference_update', 'union', 'update']\n",
      "[1, 23, 4, 10, 11, 23, 77]\n"
     ]
    }
   ],
   "source": [
    "#every thing in python is an object\n",
    "number=[1,2,3,4,5]\n",
    "print(type(number))\n",
    "n1=5\n",
    "print(type(n1))\n",
    "flag=True\n",
    "print(type(flag))\n",
    "def my_func():\n",
    "    pass\n",
    "print(type(my_func))\n",
    "\n",
    "#find all the attribute and method of a class\n",
    "\n",
    "number_list=[1,23,4]\n",
    "\n",
    "#printing all the attribute and method of list class\n",
    "\n",
    "print(dir(number_list))\n",
    "\n",
    "print()\n",
    "print()\n",
    "\n",
    "s={1,4,5,2}\n",
    "#printing all the attribute and method of set class\n",
    "print(dir(s))\n",
    "\n",
    "new_list=number_list.__add__([10,11,23,77])\n",
    "print((new_list))\n"
   ]
  },
  {
   "cell_type": "code",
   "execution_count": 5,
   "id": "1b453f6f",
   "metadata": {},
   "outputs": [
    {
     "name": "stdout",
     "output_type": "stream",
     "text": [
      "2067137718704\n",
      "2067137718736\n",
      "a= [1, 2, 3, 4, 5]\n",
      "b= [1, 2, 3, 4, 5]\n",
      "c= [1, 2, 3, 4]\n"
     ]
    }
   ],
   "source": [
    "#every object has an id for identity\n",
    "number1=5\n",
    "print(id(number1))\n",
    "number2=6\n",
    "print(id(number2))\n",
    "\n",
    "a=[1,2,3,4]\n",
    "\n",
    "b=a;\n",
    "c=a.copy()\n",
    "\n",
    "a.append(5)\n",
    "# and b are reffering to same object of class list\n",
    "#so as a has been changed so it happenes for b \n",
    "print(\"a=\",a)\n",
    "print(\"b=\",b)\n",
    "\n",
    "#but c will not be changed as a because c is not reffereing the same object as a rather it is a new object which \n",
    "# copyed the value of a\n",
    "\n",
    "print(\"c=\",c)\n",
    "\n",
    "\n",
    "\n"
   ]
  },
  {
   "cell_type": "code",
   "execution_count": 6,
   "id": "4c3be5a8",
   "metadata": {},
   "outputs": [
    {
     "name": "stdout",
     "output_type": "stream",
     "text": [
      "I can bark\n",
      "I can eat\n",
      "I can eat\n",
      "I am getting grumpy\n"
     ]
    }
   ],
   "source": [
    "#Inheritance\n",
    "\n",
    "class  Animal:\n",
    "    #self meaning that current object of this class is calling this method\n",
    "    def eat(self):\n",
    "        print(\"I can eat\")\n",
    "        \n",
    "#here Dog class has been inherited so dog class inherits all the features of animal class \n",
    "class Dog(Animal):\n",
    "    def bark(self):\n",
    "        print(\"I can bark\")\n",
    "        \n",
    "class Cat(Animal):\n",
    "    def get_grumpy(self):\n",
    "        print(\"I am getting grumpy\")\n",
    "\n",
    "        \n",
    "dog1=Dog()\n",
    "dog1.bark()\n",
    "dog1.eat()\n",
    "\n",
    "cat1=Cat()\n",
    "cat1.eat()\n",
    "cat1.get_grumpy()\n",
    "    "
   ]
  },
  {
   "cell_type": "code",
   "execution_count": 7,
   "id": "14333810",
   "metadata": {},
   "outputs": [
    {
     "name": "stdout",
     "output_type": "stream",
     "text": [
      "18\n",
      "A triangl is a polygon with 3 straight line\n",
      "A 2 dimensional shape with straight line\n",
      "None\n"
     ]
    }
   ],
   "source": [
    "class polygon:\n",
    "    def __init__(self,sides):\n",
    "        self.sides=sides\n",
    "        \n",
    "    def display_info(self):\n",
    "        print(\"A 2 dimensional shape with straight line\")\n",
    "    \n",
    "    def get_perimeter(self):\n",
    "        perimeter=sum(self.sides)\n",
    "        return perimeter\n",
    "\n",
    "    \n",
    "\n",
    "class triangle(polygon):\n",
    "    def display_info(self):\n",
    "        print(\"A triangl is a polygon with 3 straight line\")\n",
    "        #To print the displayinfo of parrent class super function is used which acts as obj of parent class\n",
    "        print(super().display_info())\n",
    "\n",
    "class quadrilateral(polygon):\n",
    "    def display_info(self):\n",
    "        print(\"A quadrilateral is a polygon with 4 edges\")\n",
    "        \n",
    "\n",
    "    \n",
    "T1=triangle([5,6,7])\n",
    "res=T1.get_perimeter()\n",
    "print(res)\n",
    "T1.display_info()\n",
    "\n",
    "        "
   ]
  },
  {
   "cell_type": "code",
   "execution_count": 8,
   "id": "82296ae6",
   "metadata": {},
   "outputs": [
    {
     "name": "stdout",
     "output_type": "stream",
     "text": [
      "5.0\n",
      "3.141592653589793\n"
     ]
    }
   ],
   "source": [
    "#python module\n",
    "# module can be imported byb renaming\n",
    "#import math as m\n",
    "import math\n",
    "number=25\n",
    "result=math.sqrt(number)\n",
    "print(result)\n",
    "print(math.pi)\n"
   ]
  },
  {
   "cell_type": "code",
   "execution_count": 9,
   "id": "c39601ac",
   "metadata": {},
   "outputs": [
    {
     "name": "stdout",
     "output_type": "stream",
     "text": [
      "1.0\n",
      "8.0\n"
     ]
    }
   ],
   "source": [
    "\n",
    "# only single or more than one function can be imported\n",
    "\n",
    "from math import sqrt,sin,pi\n",
    "\n",
    "value=sin(pi/2)\n",
    "print(value)\n",
    "num=sqrt(64.0)\n",
    "\n",
    "print(num)\n"
   ]
  },
  {
   "cell_type": "code",
   "execution_count": 10,
   "id": "80a65ac0",
   "metadata": {},
   "outputs": [
    {
     "name": "stdout",
     "output_type": "stream",
     "text": [
      "5\n",
      "-1\n",
      "6\n",
      "0.6666666666666666\n"
     ]
    }
   ],
   "source": [
    "# creating custom module\n",
    "# creating own module\n",
    "#my_mod module has been imported \n",
    "import my_mod\n",
    "result1=my_mod.add(2,3)\n",
    "print(result1)\n",
    "\n",
    "result1=my_mod.sub(2,3)\n",
    "print(result1)\n",
    "\n",
    "result1=my_mod.multiply(2,3)\n",
    "print(result1)\n",
    "\n",
    "result1=my_mod.divide(2,3)\n",
    "print(result1)\n",
    "\n",
    "#module can contain classes and other things also\n"
   ]
  },
  {
   "cell_type": "code",
   "execution_count": 11,
   "id": "d024431f",
   "metadata": {},
   "outputs": [
    {
     "name": "stdout",
     "output_type": "stream",
     "text": [
      "Initializing the Game for package...\n",
      "Initializing the Game for subpackage...\n",
      "I am the main player\n"
     ]
    }
   ],
   "source": [
    "#A package is a directory containing other sub-packages and multiple module\n",
    "#Game is a Package Characters is a subpackage and player is module \n",
    "#Now all function can be accessed of player module \n",
    "import Game.Characters.player\n",
    "Game.Characters.player.get_payer_info()"
   ]
  },
  {
   "cell_type": "code",
   "execution_count": 12,
   "id": "6416e23c",
   "metadata": {},
   "outputs": [
    {
     "name": "stdout",
     "output_type": "stream",
     "text": [
      "I am the enemy player\n"
     ]
    }
   ],
   "source": [
    "#only certain function of a module can be imported \n",
    "from Game.Characters.boss import get_boss_info\n",
    "get_boss_info()"
   ]
  },
  {
   "cell_type": "code",
   "execution_count": 14,
   "id": "d06123be",
   "metadata": {},
   "outputs": [
    {
     "name": "stdout",
     "output_type": "stream",
     "text": [
      "I am the main player\n"
     ]
    }
   ],
   "source": [
    "#__init__.py runs when package are imported let's see\n",
    "import Game.Characters.player\n",
    "Game.Characters.player.get_payer_info()"
   ]
  },
  {
   "cell_type": "code",
   "execution_count": 15,
   "id": "8378bbb1",
   "metadata": {},
   "outputs": [
    {
     "name": "stdout",
     "output_type": "stream",
     "text": [
      "Package                Version\n",
      "---------------------- ----------------\n",
      "anyio                  3.6.2\n",
      "argon2-cffi            21.3.0\n",
      "argon2-cffi-bindings   21.2.0\n",
      "asttokens              2.0.5\n",
      "attrs                  22.1.0\n",
      "backcall               0.2.0\n",
      "beautifulsoup4         4.11.1\n",
      "bleach                 5.0.1\n",
      "cffi                   1.15.1\n",
      "colorama               0.4.4\n",
      "cycler                 0.10.0\n",
      "debugpy                1.6.0\n",
      "decorator              5.1.1\n",
      "defusedxml             0.7.1\n",
      "entrypoints            0.4\n",
      "executing              0.8.3\n",
      "fastjsonschema         2.16.2\n",
      "idna                   3.4\n",
      "importlib-metadata     5.0.0\n",
      "ipykernel              6.13.1\n",
      "ipython                8.4.0\n",
      "ipython-genutils       0.2.0\n",
      "ipywidgets             8.0.2\n",
      "jedi                   0.17.2\n",
      "Jinja2                 3.1.2\n",
      "jsonschema             4.16.0\n",
      "jupyter                1.0.0\n",
      "jupyter-client         7.3.4\n",
      "jupyter-console        6.4.4\n",
      "jupyter-core           4.10.0\n",
      "jupyter-server         1.21.0\n",
      "jupyterlab-pygments    0.2.2\n",
      "jupyterlab-widgets     3.0.3\n",
      "jupyterthemes          0.20.0\n",
      "kiwisolver             1.3.1\n",
      "lesscpy                0.15.1\n",
      "MarkupSafe             2.1.1\n",
      "matplotlib             3.4.3\n",
      "matplotlib-inline      0.1.3\n",
      "mistune                2.0.4\n",
      "mypy                   0.960\n",
      "mypy-extensions        0.4.3\n",
      "nbclassic              0.4.5\n",
      "nbclient               0.7.0\n",
      "nbconvert              7.2.2\n",
      "nbformat               5.7.0\n",
      "nest-asyncio           1.5.5\n",
      "notebook               6.5.1\n",
      "notebook_shim          0.2.0\n",
      "numpy                  1.21.1\n",
      "opencv-python          4.6.0.66\n",
      "packaging              21.3\n",
      "pandas                 1.3.1\n",
      "pandocfilters          1.5.0\n",
      "parso                  0.7.1\n",
      "pickleshare            0.7.5\n",
      "Pillow                 8.3.1\n",
      "pip                    22.3\n",
      "pluggy                 1.0.0\n",
      "ply                    3.11\n",
      "prometheus-client      0.15.0\n",
      "prompt-toolkit         3.0.29\n",
      "psutil                 5.9.1\n",
      "pure-eval              0.2.2\n",
      "pycparser              2.21\n",
      "Pygments               2.12.0\n",
      "pyls-mypy              0.1.8+6.g3b105b4\n",
      "pyparsing              2.4.7\n",
      "pyrsistent             0.18.1\n",
      "python-dateutil        2.8.2\n",
      "python-jsonrpc-server  0.4.0\n",
      "python-language-server 0.36.2\n",
      "pytz                   2021.1\n",
      "pywin32                304\n",
      "pywinpty               2.0.8\n",
      "pyzmq                  23.1.0\n",
      "qtconsole              5.3.2\n",
      "QtPy                   2.2.1\n",
      "scipy                  1.7.1\n",
      "seaborn                0.11.1\n",
      "Send2Trash             1.8.0\n",
      "setuptools             49.2.1\n",
      "six                    1.16.0\n",
      "sniffio                1.3.0\n",
      "soupsieve              2.3.2.post1\n",
      "stack-data             0.2.0\n",
      "terminado              0.16.0\n",
      "tinycss2               1.2.1\n",
      "tomli                  2.0.1\n",
      "tornado                6.1\n",
      "traitlets              5.2.2.post1\n",
      "typing_extensions      4.2.0\n",
      "ujson                  5.3.0\n",
      "wcwidth                0.2.5\n",
      "webencodings           0.5.1\n",
      "websocket-client       1.4.1\n",
      "widgetsnbextension     4.0.3\n",
      "zipp                   3.9.0\n",
      "Note: you may need to restart the kernel to use updated packages.\n"
     ]
    }
   ],
   "source": [
    "#To see all the installed packages\n",
    "pip list\n"
   ]
  },
  {
   "cell_type": "code",
   "execution_count": 16,
   "id": "bf39ae43",
   "metadata": {},
   "outputs": [
    {
     "name": "stdout",
     "output_type": "stream",
     "text": [
      "Enter Numerator12\n",
      "Enter Denomenator0\n",
      "Denominator can not be zero please try again later\n",
      "Program ends\n"
     ]
    }
   ],
   "source": [
    "#exception handling\n",
    "try:\n",
    "    #code to run that may cause exception\n",
    "    numerator=int(input(\"Enter Numerator\"))\n",
    "    denominator=int(input(\"Enter Denomenator\"))\n",
    "    result=numerator/denominator\n",
    "    print(result)\n",
    "except:\n",
    "    #code to run when exception occurs\n",
    "    print(\"Denominator can not be zero please try again later\")\n",
    "    print(\"Program ends\")\n",
    "    "
   ]
  },
  {
   "cell_type": "code",
   "execution_count": 19,
   "id": "464fa89e",
   "metadata": {},
   "outputs": [
    {
     "name": "stdout",
     "output_type": "stream",
     "text": [
      "Enter index to print6\n",
      "Index error happened\n"
     ]
    }
   ],
   "source": [
    "#When there is more than one error to handle\n",
    "try:\n",
    "    #code to run that may cause exception\n",
    "    my_list=[1,2,3]\n",
    "    index=int(input(\"Enter index to print\"))\n",
    "    print(my_list[index])\n",
    "    numerator=int(input(\"Enter Numerator\"))\n",
    "    denominator=int(input(\"Enter Denomenator\"))\n",
    "    result=numerator/denominator\n",
    "    print(result)\n",
    "except ZeroDivisionError:\n",
    "    #code to run when exception occurs\n",
    "    print(\"Denominator can not be zero please try again later\")\n",
    "    print(\"Program ends\")\n",
    "except IndexError:\n",
    "    print(\"Index error happened\")\n",
    "    "
   ]
  },
  {
   "cell_type": "code",
   "execution_count": 1,
   "id": "6e999b62",
   "metadata": {},
   "outputs": [
    {
     "name": "stdout",
     "output_type": "stream",
     "text": [
      "I love programming\n",
      "I love programiz\n"
     ]
    }
   ],
   "source": [
    "#file handling\n",
    "\n",
    "#reading from file\n",
    "f=open(\"message.txt\",\"r\")\n",
    "content=f.read()\n",
    "print(content)\n",
    "f.close()"
   ]
  },
  {
   "cell_type": "code",
   "execution_count": 2,
   "id": "213ed6d6",
   "metadata": {},
   "outputs": [],
   "source": [
    "#write to a file \n",
    "#if a file does not exist then a new file is created and if a file exists then it's data is over written\n",
    "\n",
    "f=open(\"python.txt\",\"w\")\n",
    "f.write(\"Python is awesome\")\n",
    "f.close()"
   ]
  },
  {
   "cell_type": "code",
   "execution_count": 3,
   "id": "795957bc",
   "metadata": {},
   "outputs": [],
   "source": [
    "#appened a existing file\n",
    "f=open(\"python.txt\",\"a\")\n",
    "f.write(\"Python is my favourite language\")\n",
    "f.close()\n"
   ]
  },
  {
   "cell_type": "code",
   "execution_count": 4,
   "id": "39ae4ac1",
   "metadata": {},
   "outputs": [
    {
     "name": "stdout",
     "output_type": "stream",
     "text": [
      "F:\\Python tutorial\n"
     ]
    }
   ],
   "source": [
    "#getting current directories \n",
    "\n",
    "import os\n",
    "current_dir=os.getcwd()\n",
    "print(current_dir)"
   ]
  },
  {
   "cell_type": "code",
   "execution_count": 6,
   "id": "0a799fb8",
   "metadata": {},
   "outputs": [
    {
     "name": "stdout",
     "output_type": "stream",
     "text": [
      "F:\\Python tutorial\n"
     ]
    }
   ],
   "source": [
    "#chaning directories\n",
    "import os\n",
    "current_dir=os.getcwd()\n",
    "print(current_dir)\n",
    "#current directory is in G drive\n",
    "#chdir for change directory\n",
    "os.chdir(\"G:\")\n",
    "#The file is open in G drive\n",
    "f=open(\"Test.txt\",\"w\")\n",
    "f.write(\"Python is my favourite language\")\n",
    "f.close()"
   ]
  },
  {
   "cell_type": "code",
   "execution_count": 8,
   "id": "17602b51",
   "metadata": {},
   "outputs": [
    {
     "name": "stdout",
     "output_type": "stream",
     "text": [
      "['.ipynb_checkpoints', 'Game', 'message.txt', 'my_mod.py', 'Oop python.ipynb', 'Python introduction.ipynb', 'python.txt', '__pycache__']\n"
     ]
    }
   ],
   "source": [
    "import os\n",
    "os.chdir(\"F:\\Python tutorial\")\n",
    "print(os.listdir())"
   ]
  },
  {
   "cell_type": "code",
   "execution_count": null,
   "id": "7b04f938",
   "metadata": {},
   "outputs": [],
   "source": []
  }
 ],
 "metadata": {
  "kernelspec": {
   "display_name": "Python 3 (ipykernel)",
   "language": "python",
   "name": "python3"
  },
  "language_info": {
   "codemirror_mode": {
    "name": "ipython",
    "version": 3
   },
   "file_extension": ".py",
   "mimetype": "text/x-python",
   "name": "python",
   "nbconvert_exporter": "python",
   "pygments_lexer": "ipython3",
   "version": "3.9.0"
  }
 },
 "nbformat": 4,
 "nbformat_minor": 5
}
